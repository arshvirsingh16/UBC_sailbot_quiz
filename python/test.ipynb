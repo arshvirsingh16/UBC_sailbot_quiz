{
 "cells": [
  {
   "cell_type": "code",
   "execution_count": 17,
   "metadata": {},
   "outputs": [
    {
     "name": "stdout",
     "output_type": "stream",
     "text": [
      "-40\n"
     ]
    }
   ],
   "source": [
    "def bound_to_180(angle):\n",
    "    \"\"\"Bounds the provided angle between [-180, 180) degrees.\n",
    "\n",
    "    e.g.)\n",
    "        bound_to_180(135) = 135.0\n",
    "        bound_to_180(200) = -160.0\n",
    "\n",
    "    Args:\n",
    "        angle (float): The input angle in degrees.\n",
    "\n",
    "    Returns:\n",
    "        float: The bounded angle in degrees.\n",
    "    \"\"\"\n",
    "    if angle > 180:\n",
    "        while angle > 180:\n",
    "            angle -= 360\n",
    "        return angle\n",
    "    elif angle <  -180:\n",
    "        while angle < -180:\n",
    "            angle += 360\n",
    "        return angle\n",
    "    else:\n",
    "        return angle\n",
    "\n",
    "print(bound_to_180(-400))"
   ]
  },
  {
   "cell_type": "code",
   "execution_count": 33,
   "metadata": {},
   "outputs": [],
   "source": [
    "def is_angle_between(first_angle, middle_angle, second_angle):\n",
    "    \"\"\"Determines whether an angle is between two other angles.\n",
    "\n",
    "    e.g.)\n",
    "        is_angle_between(0, 45, 90) = True\n",
    "        is_angle_between(45, 90, 270) = False\n",
    "\n",
    "    Args:\n",
    "        first_angle (float): The first bounding angle in degrees.\n",
    "        middle_angle (float): The angle in question in degrees.\n",
    "        second_angle (float): The second bounding angle in degrees.\n",
    "\n",
    "    Returns:\n",
    "        bool: True when `middle_angle` is not in the reflex angle of `first_angle` and `second_angle`, false otherwise.\n",
    "    \"\"\"\n",
    "\n",
    "    # Bound all angles\n",
    "    first_angle = bound_to_180(first_angle)\n",
    "    middle_angle = bound_to_180(middle_angle)\n",
    "    second_angle = bound_to_180(second_angle)\n",
    "\n",
    "    # Ideal Scenario: first and second angles are either in the top or bottom half\n",
    "\n",
    "    # First case: first and middle angle in first two quadrants \n",
    "    if first_angle >= 0 and second_angle >= 0:\n",
    "        if first_angle < second_angle:\n",
    "            return first_angle < middle_angle < second_angle\n",
    "        else:\n",
    "            return second_angle < middle_angle < first_angle \n",
    "\n",
    "    # Second Case: first and middle angle in last two quadrants\n",
    "    elif first_angle < 0 and second_angle < 0:\n",
    "        if first_angle < second_angle:\n",
    "            return first_angle < middle_angle < second_angle\n",
    "        else:\n",
    "            return second_angle < middle_angle < first_angle\n",
    "\n",
    "    # Unideal Scenario: First angle and second angle are split between top and bottom half\n",
    "    # Would have to check for reflex angle\n",
    "\n",
    "    # First case: first angle is in top half while second angle is on the bottom half\n",
    "    if first_angle > second_angle:\n",
    "        angle_between = first_angle - second_angle\n",
    "\n",
    "        if angle_between < 180:\n",
    "            return second_angle < middle_angle < first_angle\n",
    "        else:\n",
    "            return first_angle < middle_angle < second_angle + 360\n",
    "    # Second case: first angle is in bottom half while second angle is on top  \n",
    "    if second_angle > first_angle:\n",
    "        angle_between = second_angle - first_angle\n",
    "        if angle_between < 180:\n",
    "            return first_angle < middle_angle < second_angle\n",
    "        else:\n",
    "            return second_angle < middle_angle < first_angle + 360\n",
    "\n"
   ]
  },
  {
   "cell_type": "code",
   "execution_count": 35,
   "metadata": {},
   "outputs": [
    {
     "data": {
      "text/plain": [
       "False"
      ]
     },
     "execution_count": 35,
     "metadata": {},
     "output_type": "execute_result"
    }
   ],
   "source": [
    "is_angle_between(-15,190,179)"
   ]
  }
 ],
 "metadata": {
  "kernelspec": {
   "display_name": "Python 3",
   "language": "python",
   "name": "python3"
  },
  "language_info": {
   "codemirror_mode": {
    "name": "ipython",
    "version": 3
   },
   "file_extension": ".py",
   "mimetype": "text/x-python",
   "name": "python",
   "nbconvert_exporter": "python",
   "pygments_lexer": "ipython3",
   "version": "3.9.13"
  },
  "orig_nbformat": 4
 },
 "nbformat": 4,
 "nbformat_minor": 2
}
